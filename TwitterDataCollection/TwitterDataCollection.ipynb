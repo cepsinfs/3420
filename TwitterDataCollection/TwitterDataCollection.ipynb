{
 "cells": [
  {
   "cell_type": "markdown",
   "id": "0f91e869",
   "metadata": {
    "slideshow": {
     "slide_type": "slide"
    }
   },
   "source": [
    "<h1 align=\"center\" style=\"color:tomato; font-size:4em;\">Twitter Data (Tweet) Collection</h1>"
   ]
  },
  {
   "cell_type": "markdown",
   "id": "accd19a5",
   "metadata": {
    "slideshow": {
     "slide_type": "slide"
    }
   },
   "source": [
    "## Twitter API Access Levels\n",
    "\n",
    "\n",
    "[Twitter API access Levels](https://developer.twitter.com/en/docs/twitter-api/getting-started/about-twitter-api#v2-access-level)"
   ]
  },
  {
   "cell_type": "markdown",
   "id": "639c40db",
   "metadata": {
    "slideshow": {
     "slide_type": "slide"
    }
   },
   "source": [
    "## After Academic Research Application is Approved\n",
    "\n",
    "* Go to the [Developer Portal](https://developer.twitter.com/en/portal)\n",
    "* Create and App (endpoint API) by clicking the **Add App** button\n",
    "* Enusre to sall all key information in a separate (python) file (config.py)\n",
    "    - `access tokens, client/consumer keys` are only used, for example, when you are posting or retweeting or liking a post.\n",
    "    - `bearer token` is enough for searching tweets and users  \n",
    "* Set App Setting and configure User Authentication Service\n",
    "    - Choose Read and Write"
   ]
  },
  {
   "cell_type": "markdown",
   "id": "0b7183ee",
   "metadata": {
    "slideshow": {
     "slide_type": "slide"
    }
   },
   "source": [
    "## Install `tweepy`\n",
    "\n",
    "#### Install tweepy as: `pip install tweepy`\n",
    "\n",
    "[Tweepy Official Documentation](https://docs.tweepy.org/en/stable/)\n",
    "\n",
    "* Tweepy is an open source Python package that gives you a very convenient way to access the Twitter API with Python\n",
    "* Once installed, it can be used in the program as `import tweepy`"
   ]
  },
  {
   "cell_type": "markdown",
   "id": "1159c477",
   "metadata": {
    "slideshow": {
     "slide_type": "slide"
    }
   },
   "source": [
    "## The tweepy `Client` class\n",
    "\n",
    "[Official Documentation for ALL `Client` Methods ](https://docs.tweepy.org/en/stable/client.html)\n",
    "\n",
    "* Creates an endpoint (client) API that let you to access different functionalities of the tweepy\n",
    "* Client can be created as:\n",
    "    - `client = tweepy.Client(bearer_token = \"YourBearerToken\")`\n",
    "    - Using `client` you can access the different [tweepy `Client` Methods ](https://docs.tweepy.org/en/stable/client.html)\n"
   ]
  },
  {
   "cell_type": "markdown",
   "id": "42d382be",
   "metadata": {
    "slideshow": {
     "slide_type": "slide"
    }
   },
   "source": [
    "## Building a Search query\n",
    "\n",
    "* The search query is a string that defines what keywords are to be searched for Tweets Collection, e.g. `\"covid OR covid19 OR covid-19 deaths\"`\n",
    "\n",
    "* For more details see: \n",
    "\n",
    "    - [Official Query Documentation](https://developer.twitter.com/en/docs/twitter-api/tweets/search/integrate/build-a-query) \n",
    "\n",
    "    - [Some more Examples](https://github.com/twitterdev/getting-started-with-the-twitter-api-v2-for-academic-research )\n"
   ]
  },
  {
   "cell_type": "markdown",
   "id": "bda5e93e",
   "metadata": {
    "slideshow": {
     "slide_type": "slide"
    }
   },
   "source": [
    "## Searching ALL tweets\n",
    "\n",
    "### `ONLY available in Academic `\n",
    "\n",
    "[search_all_tweets()](https://docs.tweepy.org/en/stable/client.html#search-tweets)\n",
    "\n",
    "* by Default only gives you Tweet `id` and `text`. But you can add more fields with predefined `Tweet and User Fields`"
   ]
  },
  {
   "cell_type": "markdown",
   "id": "58f9c991",
   "metadata": {
    "slideshow": {
     "slide_type": "slide"
    }
   },
   "source": [
    "## Twitter Fields\n",
    "\n",
    "[Offical Documentation on Fileds](https://developer.twitter.com/en/docs/twitter-api/fields)\n",
    "\n",
    "### Tweet Fields: \n",
    "\n",
    "* If more information is required, use the tweet_fields[] argument in the Client `method` as, e.g., \n",
    "\n",
    "`tweet_fields = ['author_id', 'created_at', 'public_metrics']`\n",
    "\n",
    "### User Fileds\n",
    "\n",
    "* Default is id, user, username. If more is intended, extend them using the `user_fields`\n",
    "\n",
    "`user_fields = ['name', 'username', 'location', 'public_metrics']`\n",
    "\n",
    "\n"
   ]
  },
  {
   "cell_type": "markdown",
   "id": "567431cc",
   "metadata": {
    "slideshow": {
     "slide_type": "slide"
    }
   },
   "source": [
    "## Getting ONLY Tweets data\n",
    "\n",
    "(With extended tweet fields defined in the `tweet_fields= ['author_id', 'created_at', 'public_metrics']`)\n",
    "\n",
    "> `for tweet in response.data:\n",
    "     st.info(f\"{tweet.id} {tweet.text} {tweet.author_id} {tweet.created_at} {tweet.public_metrics}\")`\n",
    "\n",
    "#### `response.data` \n",
    "* `response` is that object used for querying the Client\n",
    "* `data` is the object (a dictionary) that contain tweet (fields) information\n"
   ]
  },
  {
   "cell_type": "markdown",
   "id": "8276095e",
   "metadata": {
    "slideshow": {
     "slide_type": "slide"
    }
   },
   "source": [
    "## Getting ONLY the user information\n",
    "(with default fields example)\n",
    "\n",
    "> `for user in response.includes['users']:\n",
    "    st.info(f\"{user.id} {user.name} {user.username}\")`\n",
    "    \n",
    "#### `includes['users']` is the default dictionary objection containing User related information\n",
    "\n",
    "\n",
    "<div class=\"alert alert-block alert-danger\"> The <b> expansions </b> attribute of the search method MUST be used to extract user related information. Otherwise, <b>includes['users']</b> will not work</div>\n"
   ]
  },
  {
   "cell_type": "markdown",
   "id": "c70d7208",
   "metadata": {
    "slideshow": {
     "slide_type": "slide"
    }
   },
   "source": [
    "## The Challenge - How to combine both the datasets, `tweet data and user info`\n",
    "\n",
    "* Solution\n",
    "    - First, create a user dictionary containing all the required user information\n",
    "    - Then combine this dictionary (based on the author_id field of the tweet data) with the tweet data to merge user-tweet information as follows:"
   ]
  },
  {
   "cell_type": "code",
   "execution_count": null,
   "id": "b6ec9c25",
   "metadata": {
    "slideshow": {
     "slide_type": "slide"
    }
   },
   "outputs": [],
   "source": [
    "\n",
    "\n",
    "user_dict = {} # Create an empty dictionary to save user information - Creating USER dataset\n",
    "\n",
    "for user in response.includes['users']:\n",
    "        \n",
    "        # saving user information as key:value pair\n",
    "        \n",
    "        user_dict[user.id] = {\n",
    "\n",
    "                'name': user.name,\n",
    "                'handler': user.username,\n",
    "                'location': user.location,\n",
    "                'followers': user.public_metrics['followers_count'],\n",
    "                'following': user.public_metrics['following_count']\n",
    "\n",
    "        } \n"
   ]
  },
  {
   "cell_type": "code",
   "execution_count": null,
   "id": "650bad95",
   "metadata": {
    "slideshow": {
     "slide_type": "slide"
    }
   },
   "outputs": [],
   "source": [
    "# Creating COMBINED dataset\n",
    "\n",
    "results = [] # Create empty list to hold both tweet and user data\n",
    "\n",
    "for tweet in response.data:\n",
    "        \n",
    "        auth_info = user_dict[tweet.author_id]\n",
    "\n",
    "        results.append({\n",
    "\n",
    "            'tweet_id': tweet.id,\n",
    "            'author_id': tweet.author_id,\n",
    "            'text': tweet.text,\n",
    "            'date': tweet.created_at,\n",
    "            'retweets': tweet.public_metrics['retweet_count'], \n",
    "            'replies': tweet.public_metrics['reply_count'],\n",
    "            'likes': tweet.public_metrics['like_count'],\n",
    "            \"name\": auth_info['name'],\n",
    "            \"handler\": auth_info['handler'],\n",
    "            \"location\": auth_info['location'],\n",
    "            \"followers\": auth_info['followers'],\n",
    "            \"following\": auth_info['following']\n",
    "\n",
    "        })\n",
    "\n"
   ]
  },
  {
   "cell_type": "markdown",
   "id": "c768b7c8",
   "metadata": {
    "slideshow": {
     "slide_type": "slide"
    }
   },
   "source": [
    "## Create a pandas DataFrame (series or table) for the combined result\n",
    "\n",
    "*pandas* should be imported before doing this:\n",
    "\n",
    ">### `dataset = pd.DataFrame(results)`\n"
   ]
  },
  {
   "cell_type": "markdown",
   "id": "0fa8f9d8",
   "metadata": {
    "slideshow": {
     "slide_type": "slide"
    }
   },
   "source": [
    "## Save the data frame, dataset, as a csv/xlsx file\n",
    "\n",
    ">### `dataset.to_csv()`\n",
    ">### `dataset.to_excel()`\n",
    "\n",
    "### OR\n",
    "\n",
    "Use the download button feature of streamlit to save the file"
   ]
  }
 ],
 "metadata": {
  "celltoolbar": "Slideshow",
  "kernelspec": {
   "display_name": "Python 3 (ipykernel)",
   "language": "python",
   "name": "python3"
  },
  "language_info": {
   "codemirror_mode": {
    "name": "ipython",
    "version": 3
   },
   "file_extension": ".py",
   "mimetype": "text/x-python",
   "name": "python",
   "nbconvert_exporter": "python",
   "pygments_lexer": "ipython3",
   "version": "3.9.12"
  }
 },
 "nbformat": 4,
 "nbformat_minor": 5
}
