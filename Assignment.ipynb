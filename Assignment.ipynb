{
 "cells": [
  {
   "cell_type": "markdown",
   "id": "2103be52",
   "metadata": {},
   "source": [
    "# INFS3420 Assignment 1 Description"
   ]
  },
  {
   "cell_type": "markdown",
   "id": "79108edd",
   "metadata": {},
   "source": [
    "## Objective\n",
    "The objective of this assignment is to enable the student to identify and apply programing essentials that would satify a set of business functions (functional requirements)\n",
    "\n",
    "<div class=\"alert alert-warning\"><h2> Deadline: <u>12.00 PM, Wednesday 19th October, 2022 </u>     No Further Extensions</h2> </div>\n",
    "\n",
    "### Assignment Weight: 10% of the Final Grade\n",
    "\n",
    "### Type: \n",
    "The assignment can be done individually or in a group with not more than **2** members\n",
    "\n",
    "### Functional Requirements\n",
    "\n",
    "#### Task 1 - Text Analysis \n",
    "- Given a **text file**, identify the 5 most used words <b>`4 Points`</b>\n",
    ">**Expected Output:**\n",
    "    >- Neatly display the content of the files\n",
    "    >- Organized/neat display of each **unique word** and its occurance (how many times does it occurs in the text)  \n",
    "    >- Print/Display the top 5 most occuring words along with their occurance\n",
    "    >- **hint:** Google how to read a text file in python\n",
    "    >- **Warning:** The content of the file should be between 15 - 20 lines/sentences only \n",
    "\n",
    "#### Task 2 - The Scrambled Word Game\n",
    "- Creating a Scrambled Word game **`6 Points`**\n",
    ">**Expected Output**\n",
    "    >- Utilizing the user input and lists, create a game that will present the user a scrambled word. \n",
    "    >- The user after guessing the word will input his/her guess. \n",
    "    >- After guess validation, the user is given a point/score.\n",
    "    >- There should be atleast **5** words presented\n",
    "    >- Inform the user as **Excellent Job**, **Average**, and **Poor Attempt** based on the overall score (create your own score conditions)\n",
    "    >- Prompt the user, if he want to play again.\n",
    "    >- **hint:** Google how to randomize a string\n",
    " \n",
    "<div class=\"alert alert-info\"><h2> Submission should be made in a single Jupyter Notebook file with appropriate notes and group member details </h2> </div>\n"
   ]
  },
  {
   "cell_type": "markdown",
   "id": "1024e514",
   "metadata": {},
   "source": [
    "I need to highlight these ==very important words==.\n",
    "\n",
    ":bamboo:"
   ]
  },
  {
   "cell_type": "code",
   "execution_count": null,
   "id": "9eb4c2ba",
   "metadata": {},
   "outputs": [],
   "source": []
  }
 ],
 "metadata": {
  "kernelspec": {
   "display_name": "Python 3 (ipykernel)",
   "language": "python",
   "name": "python3"
  },
  "language_info": {
   "codemirror_mode": {
    "name": "ipython",
    "version": 3
   },
   "file_extension": ".py",
   "mimetype": "text/x-python",
   "name": "python",
   "nbconvert_exporter": "python",
   "pygments_lexer": "ipython3",
   "version": "3.9.12"
  }
 },
 "nbformat": 4,
 "nbformat_minor": 5
}
